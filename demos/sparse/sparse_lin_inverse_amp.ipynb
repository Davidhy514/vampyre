{
 "cells": [
  {
   "cell_type": "markdown",
   "metadata": {},
   "source": [
    "# Sparse Linear Inverse Demo with AMP\n",
    "\n",
    "In this demo, we illustrate how to use the `vampyre` package for a simple sparse linear inverse problem.   The problem is to estimate a sparse vector `z0` from linear measurements of the form `y=A.dot(z0)+w` where `w` is Gaussian noise and `A` is a known linear transform -- a basic problem in compressed sensing.  By *sparse*, we mean that the vector `z0` has few non-zero values.  Knowing that the vector is sparse can be used for improved reconstruction if an appropriate sparse reconstruction algorithm is used.\n",
    "\n",
    "There are a large number of algorithms for sparse linear inverse problems.  This demo uses the Generalized Approximate Message Passing (GAMP) method, one of several methods that will be included in the `vampyre` package.  In going through this demo, you will learn to:\n",
    "* Load the `vampyre` package\n",
    "* Create synthetic data for a sparse linear inverse problem\n",
    "* Set up the GAMP method in the `vampyre` package to perform the estimation for the linear inverse problem\n",
    "* Measure the mean squared error (MSE) and compare the value to the predicted value from the VAMP method.\n",
    "* Using the `hist_list` feature to track variables per iteration of the algorithm.\n",
    "* Adjust the damping factor for ill-conditioned matrices.\n",
    "\n",
    "An almost identical [demo](./sparse_lin_inverse.ipynb) is available for the Vector AMP (VAMP) method.  The VAMP method is more robust and similar to use.  You can start on that demo instead."
   ]
  },
  {
   "cell_type": "markdown",
   "metadata": {},
   "source": [
    "## Importing the Package \n",
    "\n",
    "\n",
    "First we need to import the `vampyre` package.  Since `python` does not have relative imports, you need to add the path location for the `vampyre` package to the system path.  In this case, we have specified the path use a relative path location, but you can change this depending on where `vampyre` is located."
   ]
  },
  {
   "cell_type": "code",
   "execution_count": 1,
   "metadata": {},
   "outputs": [],
   "source": [
    "import os\n",
    "import sys\n",
    "vp_path = os.path.abspath('../../')\n",
    "if not vp_path in sys.path:\n",
    "    sys.path.append(vp_path)\n",
    "import vampyre as vp"
   ]
  },
  {
   "cell_type": "markdown",
   "metadata": {},
   "source": [
    "We will also load the other packages we will use in this demo.  This could be done before the above import."
   ]
  },
  {
   "cell_type": "code",
   "execution_count": 2,
   "metadata": {},
   "outputs": [],
   "source": [
    "import numpy as np\n",
    "import matplotlib\n",
    "import matplotlib.pyplot as plt\n",
    "%matplotlib inline"
   ]
  },
  {
   "cell_type": "markdown",
   "metadata": {},
   "source": [
    "## Generating Synthetic Data\n",
    "\n",
    "We begin by generating synthetic data.  The model is:\n",
    "\n",
    "    y = z1 + w,   z1 = A.dot(z0)\n",
    "    \n",
    "where `z0` and `z1` are the unknown vectors, `A` is transform and `w` is noise.  First, we set the dimensions and the shapes of the vectors we wil use."
   ]
  },
  {
   "cell_type": "code",
   "execution_count": 3,
   "metadata": {},
   "outputs": [],
   "source": [
    "# Parameters\n",
    "nz0 = 1000   # number of components of z0\n",
    "nz1 = 500    # number of measurements z1\n",
    "\n",
    "# Compute the shapes\n",
    "zshape0 = (nz0,)   # Shape of z0 matrix\n",
    "zshape1 = (nz1,)   # Shape of z1 matrix = shape of y matrix\n",
    "Ashape = (nz1,nz0)   # Shape of A matrix"
   ]
  },
  {
   "cell_type": "markdown",
   "metadata": {},
   "source": [
    "To generate the synthetic data for this demo, we use the following simple probabilistic model.  For the input `z0`, we will use Bernouli-Gaussian (BG) distribution, a simple  model in sparse signal processing.  In the BG model, the components `z0[j]` are i.i.d. where each component can be *on* or *off*.   \n",
    "\n",
    "*  With probability `prob_on`, `z0[i]` is *on* with `z0[i] ~ N(z0_mean_on,z0_var_on)`\n",
    "*  With probability `1-prob_on`, `z0[i]` is *off* with `z0[i]=0`.\n",
    "\n",
    "Thus, on average, on `prob_on*nz0` are *on$.  We set the parameters for the model as well as the SNR for the measurements."
   ]
  },
  {
   "cell_type": "code",
   "execution_count": 4,
   "metadata": {},
   "outputs": [],
   "source": [
    "prob_on = 0.1      # fraction of components that are *on*\n",
    "z0_mean_on = 0     # mean for the on components\n",
    "z0_var_on = 1      # variance for the on components\n",
    "snr = 30           # SNR in dB"
   ]
  },
  {
   "cell_type": "markdown",
   "metadata": {},
   "source": [
    "Using these parameters, we can generate random sparse `z0` following this distribution with the following simple code."
   ]
  },
  {
   "cell_type": "code",
   "execution_count": 5,
   "metadata": {},
   "outputs": [],
   "source": [
    "# Generate the random input \n",
    "z0_on = np.random.normal(z0_mean_on, np.sqrt(z0_var_on), zshape0)\n",
    "u = np.random.uniform(0, 1, zshape0) < prob_on\n",
    "z0 = z0_on*u"
   ]
  },
  {
   "cell_type": "markdown",
   "metadata": {},
   "source": [
    "To illustrate the sparsity, we plot the vector `z0`.  We can see from this plot that the majority of the components of `z0` are zero."
   ]
  },
  {
   "cell_type": "code",
   "execution_count": 7,
   "metadata": {},
   "outputs": [
    {
     "data": {
      "text/plain": [
       "[<matplotlib.lines.Line2D at 0x219cb365908>]"
      ]
     },
     "execution_count": 7,
     "metadata": {},
     "output_type": "execute_result"
    },
    {
     "data": {
      "image/png": "[encoded data removed]",
      "text/plain": [
       "<Figure size 432x288 with 1 Axes>"
      ]
     },
     "metadata": {},
     "output_type": "display_data"
    }
   ],
   "source": [
    "ind = np.arange(nz0)\n",
    "plt.plot(ind,z0);"
   ]
  },
  {
   "cell_type": "markdown",
   "metadata": {},
   "source": [
    "Now, we create a random transform `A` and output `z1 = A.dot(z0)`"
   ]
  },
  {
   "cell_type": "code",
   "execution_count": 8,
   "metadata": {},
   "outputs": [],
   "source": [
    "A = np.random.normal(0, 1/np.sqrt(nz0), Ashape)\n",
    "z1 = A.dot(z0)"
   ]
  },
  {
   "cell_type": "markdown",
   "metadata": {},
   "source": [
    "Finally, we add noise at the desired SNR"
   ]
  },
  {
   "cell_type": "code",
   "execution_count": 9,
   "metadata": {},
   "outputs": [],
   "source": [
    "zvar1 = np.mean(np.abs(z1)**2)\n",
    "wvar = zvar1*np.power(10, -0.1*snr)\n",
    "w = np.random.normal(0,np.sqrt(wvar), zshape1)\n",
    "y = z1 + w"
   ]
  },
  {
   "cell_type": "markdown",
   "metadata": {},
   "source": [
    "## Setting up the AMP / GAMP Solver\n",
    "\n",
    "Now that we have created the sparse data, we will use the `vampyre` package to recover `z0` and `z1` from `y`.  In `vampyre` the methods to perform this estimation are called *solvers*.  The basic Approximate Message Passing (AMP) algorithm was developed in:\n",
    "\n",
    "*  Donoho, David L., Arian Maleki, and Andrea Montanari. \"Message-passing algorithms for compressed sensing.\" Proceedings of the National Academy of Sciences 106.45 (2009): 18914-18919.\n",
    "\n",
    "The `vampyre` package currently implements a slightly more general solver, called Generalized AMP described in:\n",
    "\n",
    "* Rangan, Sundeep. \"Generalized approximate message passing for estimation with random linear mixing.\" Proc. IEEE Internation Symposium on Information Theory (ISIT), 2011.\n",
    "\n",
    "GAMP can handle nonlinear output channels.  In this demo, we will restrict our attention to the linear Gaussian channel, so the GAMP solver essentially implements the AMP algorithm.\n",
    "\n",
    "Similar to most of the solvers in the `vampyre` package, the GAMP solver needs precise specifications of the probability distributions of `z0`, `z1` and `y`.  For the linear inverse problem, we will specify three components:\n",
    "* The prior `p(z0)`; \n",
    "* The transform `A` such that `z1 = A.dot(z_0)`\n",
    "* The likelihood `p(y|z1)`.\n",
    "\n",
    "\n",
    "Both the prior and likelihood are described by *estimators*.   The transform is described by an *operator*.\n",
    "\n",
    "We first describe the estimator for the prior `p(z0)`.  The `vampyre` package will eventually have a large number of estimators to describe various densities.  In this simple demo, `p(z0)` is what is called a *mixture* distribution since `z0` is one distribution with probability `1-prob_on` and a second distribution with probability `prob_on`.  To describe this mixture distribution in the `vampyre` package, we need to first create estimator classes for each component distribution.  To this end, the following code creates two estimators:\n",
    "* `est0_off`:  The estimator corresponding to the `z0[j]=0`.  This is simply a discrete distribution with a point mass at zero.\n",
    "* `est0_on`:  The estimator corresponding to the case when `z0[j] = N(z0_mean_on, z0_var_on)`.  This is a Gaussian distribution"
   ]
  },
  {
   "cell_type": "code",
   "execution_count": 10,
   "metadata": {},
   "outputs": [],
   "source": [
    "est0_off = vp.estim.DiscreteEst(0,1,zshape0)\n",
    "est0_on   = vp.estim.GaussEst(z0_mean_on, z0_var_on,zshape0)"
   ]
  },
  {
   "cell_type": "markdown",
   "metadata": {},
   "source": [
    "We next use the `vampyre` class, `MixEst`, to describe a mixture of the two distributions.  This is done by creating a list, `est_list`, of the estimators and an array `pz` with the probability of each component.  The resulting estimator, `est_in`, is the estimator for the prior $z$, which is also the input to the transform $A$.  We give this a name `Input` since it corresponds to the input.  But, any naming is fine.  Or, you can let `vampyre` give it a generic name."
   ]
  },
  {
   "cell_type": "code",
   "execution_count": 11,
   "metadata": {},
   "outputs": [],
   "source": [
    "est_list = [est0_off, est0_on]\n",
    "pz0 = np.array([1-prob_on, prob_on])\n",
    "est0 = vp.estim.MixEst(est_list, w=pz0, name='Input')"
   ]
  },
  {
   "cell_type": "markdown",
   "metadata": {},
   "source": [
    "We next define the operator `A`.  In this case the operator is defined by a matrix so we use the `MatrixLT` class."
   ]
  },
  {
   "cell_type": "code",
   "execution_count": 13,
   "metadata": {},
   "outputs": [],
   "source": [
    "Aop = vp.trans.MatrixLT(A,zshape0)"
   ]
  },
  {
   "cell_type": "markdown",
   "metadata": {},
   "source": [
    "Finally, we describe the likelihood function, `p(y|z1)`.  Since `y=z1+w`, we can describe this as a Gaussian estimator."
   ]
  },
  {
   "cell_type": "code",
   "execution_count": 14,
   "metadata": {},
   "outputs": [],
   "source": [
    "est1  = vp.estim.GaussEst(y,wvar,zshape1,name='Output')"
   ]
  },
  {
   "cell_type": "markdown",
   "metadata": {},
   "source": [
    "## Running the GAMP Solver\n",
    "\n",
    "Having described the input and output estimators and the variance handler, we can now construct a GAMP solver.   The construtor takes the input and output estimators, the variance handler and other parameters. The paramter `nit` is the number of iterations.  This is fixed for now.  Later, we will add auto-termination.  The other parameter, `hist_list` is optional, and will be described momentarily.  "
   ]
  },
  {
   "cell_type": "code",
   "execution_count": 15,
   "metadata": {
    "scrolled": true
   },
   "outputs": [],
   "source": [
    "nit = 20  # number of iterations\n",
    "solver = vp.solver.Gamp(est0,est1,Aop,hist_list=['z0', 'zvar0'],nit=nit)"
   ]
  },
  {
   "cell_type": "markdown",
   "metadata": {},
   "source": [
    "We can print a summary of the model which indicates the dimensions and the estimators."
   ]
  },
  {
   "cell_type": "code",
   "execution_count": 16,
   "metadata": {},
   "outputs": [
    {
     "name": "stdout",
     "output_type": "stream",
     "text": [
      "est0: Input (Mixture) shape: (1000,)\n",
      "est1: Output (GaussEst) shape: (500,)\n"
     ]
    }
   ],
   "source": [
    "solver.summary()"
   ]
  },
  {
   "cell_type": "markdown",
   "metadata": {},
   "source": [
    "We now run the solver by calling the `solve()` method.  For a small problem like this, this should be close to instantaneous.  "
   ]
  },
  {
   "cell_type": "code",
   "execution_count": 17,
   "metadata": {},
   "outputs": [],
   "source": [
    "solver.solve()"
   ]
  },
  {
   "cell_type": "markdown",
   "metadata": {},
   "source": [
    "The VAMP solver estimate is the field `zhat`.  We plot one column of this (`icol=0`) and compare it to the corresponding column of the true matrix `z`.  You should see a very good match."
   ]
  },
  {
   "cell_type": "code",
   "execution_count": 18,
   "metadata": {},
   "outputs": [
    {
     "data": {
      "text/plain": [
       "<matplotlib.legend.Legend at 0x219cbdcb9e8>"
      ]
     },
     "execution_count": 18,
     "metadata": {},
     "output_type": "execute_result"
    },
    {
     "data": {
      "image/png": "[encoded data removed]",
      "text/plain": [
       "<Figure size 432x288 with 1 Axes>"
      ]
     },
     "metadata": {},
     "output_type": "display_data"
    }
   ],
   "source": [
    "zhat0 = solver.z0\n",
    "ind = np.array(range(nz0))\n",
    "plt.plot(ind,z0)\n",
    "plt.plot(ind,zhat0)\n",
    "plt.legend(['True', 'Estimate']);"
   ]
  },
  {
   "cell_type": "markdown",
   "metadata": {},
   "source": [
    "We can measure the normalized mean squared error as follows.  The GAMP solver also produces an estimate of the MSE in the variable `zvar0`.  We can extract this variable to compute the predicted MSE.  We see that the normalized MSE is indeed low and closely matches the predicted value from VAMP."
   ]
  },
  {
   "cell_type": "code",
   "execution_count": 19,
   "metadata": {},
   "outputs": [
    {
     "name": "stdout",
     "output_type": "stream",
     "text": [
      "Normalized MSE (dB): actual -35.528917 pred -35.298302\n"
     ]
    }
   ],
   "source": [
    "zerr0_act = np.mean(np.abs(zhat0-z0)**2)\n",
    "zerr0_pred = solver.zvar0\n",
    "zpow0 = np.mean(np.abs(z0)**2)\n",
    "mse_act = 10*np.log10(zerr0_act/zpow0)\n",
    "mse_pred = 10*np.log10(zerr0_pred/zpow0)\n",
    "print(\"Normalized MSE (dB): actual {0:f} pred {1:f}\".format(mse_act, mse_pred))"
   ]
  },
  {
   "cell_type": "markdown",
   "metadata": {},
   "source": [
    "Finally, we can plot the actual and predicted MSE as a function of the iteration number.  When `solver` was contructed, we passed an argument `hist_list=['z0', 'zvar0']`.  This indicated to store the value of the estimate `z0` and predicted error variance `zvar0` with each iteration.  We can recover these values from `solver.hist_dict`, the history dictionary.  Using the values we can compute and plot the normalized MSE on each iteartion.  Since we are going to plot several times in this demo, we wrap the plotting routine in a function, `plot_z0est()`. \n",
    "\n",
    "When we run `plot_z0est()` we see that GAMP gets a low MSE in very few iterations, about 10."
   ]
  },
  {
   "cell_type": "code",
   "execution_count": 20,
   "metadata": {},
   "outputs": [
    {
     "data": {
      "image/png": "[encoded data removed]",
      "text/plain": [
       "<Figure size 432x288 with 1 Axes>"
      ]
     },
     "metadata": {},
     "output_type": "display_data"
    }
   ],
   "source": [
    "def plot_z0_est(solver,z0):\n",
    "    \"\"\"\n",
    "    Plots the true and predicted MSE for the estimates of z0\n",
    "    \"\"\"\n",
    "    # Compute the MSE as a function of the iteration\n",
    "    zhat0_hist = solver.hist_dict['z0']\n",
    "    zvar0_hist = solver.hist_dict['zvar0']\n",
    "    nit = len(zhat0_hist)\n",
    "    mse_act = np.zeros(nit)\n",
    "    mse_pred = np.zeros(nit)\n",
    "    for it in range(nit):\n",
    "        zerr0_act = np.mean(np.abs(zhat0_hist[it]-z0)**2)\n",
    "        zerr0_pred = zvar0_hist[it]    \n",
    "        mse_act[it] = 10*np.log10(zerr0_act/zpow0)\n",
    "        mse_pred[it] = 10*np.log10(zerr0_pred/zpow0)\n",
    "\n",
    "    plt.plot(range(nit), mse_act, 'o-', linewidth=2)\n",
    "    plt.plot(range(nit), mse_pred, 's', linewidth=1)\n",
    "    plt.xlabel('Iteration')\n",
    "    plt.ylabel('Normalized MSE (dB)')\n",
    "    plt.legend(['Actual', 'Predicted'])\n",
    "    plt.grid()\n",
    "        \n",
    "plot_z0_est(solver,z0)    "
   ]
  },
  {
   "cell_type": "markdown",
   "metadata": {
    "collapsed": true
   },
   "source": [
    "## Damping and Stability\n",
    "\n",
    "A significant problem with GAMP is its stability.  GAMP and AMP are designed for Gaussian i.i.d. matrices.  For other matrices, the algorithms can diverge.  This divergence issue is one of the main difficulties in using GAMP and AMP in practivce.  \n",
    "\n",
    "Recent research has shown that the convergence appears to be related to condition number of the matrix.  Matrices `A` with higher condition numbers tend to cause GAMP / AMP to diverge.  See, for example:\n",
    "* Rangan, Sundeep, Philip Schniter, and Alyson Fletcher. \"On the convergence of approximate message passing with arbitrary matrices.\" Proc. IEEE International Symposium on Information Theory (ISIT), 2014.\n",
    "\n",
    "To illustrate we create a random matrix with a specified condition number.  This can be done with the `rand_rot_invariant` command.  Specifically, it creates a matrix `A=USV.T` where `U` and `V` are random orthogonal matrices and `S` has a specified condition number."
   ]
  },
  {
   "cell_type": "code",
   "execution_count": 22,
   "metadata": {},
   "outputs": [],
   "source": [
    "# Generate a random transform\n",
    "A = vp.trans.rand_rot_invariant_mat(nz1,nz0,cond_num=10)\n",
    "Aop = vp.trans.MatrixLT(A,zshape0)\n",
    "z1 = A.dot(z0)"
   ]
  },
  {
   "cell_type": "markdown",
   "metadata": {},
   "source": [
    "Now, we create a synthetic data based on the matrix and re-run GAMP."
   ]
  },
  {
   "cell_type": "code",
   "execution_count": 23,
   "metadata": {},
   "outputs": [],
   "source": [
    "\n",
    "# Add noise\n",
    "zvar1 = np.mean(np.abs(z1)**2)\n",
    "wvar = zvar1*np.power(10, -0.1*snr)\n",
    "w = np.random.normal(0,np.sqrt(wvar), zshape1)\n",
    "y = z1 + w\n",
    "\n",
    "# Create the estimator\n",
    "est1  = vp.estim.GaussEst(y,wvar,zshape1,name='Output')\n",
    "\n",
    "# Run GAMP\n",
    "nit = 20\n",
    "solver = vp.solver.Gamp(est0,est1,Aop,hist_list=['z0', 'zvar0'],nit=nit)\n",
    "solver.solve()"
   ]
  },
  {
   "cell_type": "markdown",
   "metadata": {},
   "source": [
    "We plot the results and we can see that the algorithm diverges."
   ]
  },
  {
   "cell_type": "code",
   "execution_count": 24,
   "metadata": {},
   "outputs": [
    {
     "data": {
      "image/png": "[encoded data removed]",
      "text/plain": [
       "<Figure size 432x288 with 1 Axes>"
      ]
     },
     "metadata": {},
     "output_type": "display_data"
    }
   ],
   "source": [
    "plot_z0_est(solver,z0)"
   ]
  },
  {
   "cell_type": "markdown",
   "metadata": {},
   "source": [
    "To fix the problem, one can apply *damping*.  In damping, the GAMP algorithm is adjusted to take a *partial* step as controlled by a parameter `step` between 0 and 1.  In general, the theory is that `step <= 1/sqrt(cond_num)`.  In practice, you can try different step sizes until you get reasonable results.  A warning though:  Sometimes you never get great results.  \n",
    "\n",
    "In this case, we take `step=0.3`.  We also need to run the algorithm for many more iterations.  We see we get better results although we have to run for more iterations."
   ]
  },
  {
   "cell_type": "code",
   "execution_count": 25,
   "metadata": {},
   "outputs": [
    {
     "data": {
      "image/png": "[encoded data removed]",
      "text/plain": [
       "<Figure size 432x288 with 1 Axes>"
      ]
     },
     "metadata": {},
     "output_type": "display_data"
    }
   ],
   "source": [
    "# Run GAMP with damping\n",
    "nit = 200\n",
    "solver = vp.solver.Gamp(est0,est1,Aop,hist_list=['z0', 'zvar0'],nit=nit,step=0.3)\n",
    "solver.solve()\n",
    "\n",
    "# Plot the results\n",
    "plot_z0_est(solver,z0) "
   ]
  }
 ],
 "metadata": {
  "anaconda-cloud": {},
  "kernelspec": {
   "display_name": "Python 3",
   "language": "python",
   "name": "python3"
  },
  "language_info": {
   "codemirror_mode": {
    "name": "ipython",
    "version": 3
   },
   "file_extension": ".py",
   "mimetype": "text/x-python",
   "name": "python",
   "nbconvert_exporter": "python",
   "pygments_lexer": "ipython3",
   "version": "3.6.6"
  }
 },
 "nbformat": 4,
 "nbformat_minor": 1
}
